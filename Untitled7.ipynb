{
 "cells": [
  {
   "cell_type": "code",
   "execution_count": 5,
   "metadata": {},
   "outputs": [
    {
     "name": "stderr",
     "output_type": "stream",
     "text": [
      "Using TensorFlow backend.\n"
     ]
    }
   ],
   "source": [
    "from keras.datasets import boston_housing\n",
    "from keras.models import Sequential\n",
    "from keras.layers import Dense"
   ]
  },
  {
   "cell_type": "code",
   "execution_count": null,
   "metadata": {},
   "outputs": [],
   "source": []
  },
  {
   "cell_type": "code",
   "execution_count": null,
   "metadata": {},
   "outputs": [],
   "source": [
    "(x_train, y_train), (x_test, y_test) = boston_housing.load_data()"
   ]
  },
  {
   "cell_type": "code",
   "execution_count": 13,
   "metadata": {},
   "outputs": [],
   "source": [
    "# Вычисляю ср.знач.\n",
    "mean = x_train.mean(axis=0)\n",
    "# стандарт. отклон.\n",
    "std = x_train.std(axis=0)\n",
    "x_train -= mean\n",
    "x_train /= std\n",
    "x_test -= mean\n",
    "x_test /= std"
   ]
  },
  {
   "cell_type": "code",
   "execution_count": 12,
   "metadata": {},
   "outputs": [],
   "source": [
    "#Сама сетка\n",
    "model = Sequential()\n",
    "model.add(Dense(128, activation='relu', input_shape=(x_train.shape[1],)))\n",
    "model.add(Dense(1))\n",
    "model.compile(optimizer='adam', loss='mse', metrics=['mae'])"
   ]
  },
  {
   "cell_type": "code",
   "execution_count": 14,
   "metadata": {},
   "outputs": [
    {
     "name": "stdout",
     "output_type": "stream",
     "text": [
      "Epoch 1/100\n",
      " - 0s - loss: 310.4454 - mean_absolute_error: 14.6293\n",
      "Epoch 2/100\n",
      " - 0s - loss: 42.8679 - mean_absolute_error: 4.4237\n",
      "Epoch 3/100\n",
      " - 0s - loss: 25.7324 - mean_absolute_error: 3.4519\n",
      "Epoch 4/100\n",
      " - 0s - loss: 21.1594 - mean_absolute_error: 3.2104\n",
      "Epoch 5/100\n",
      " - 0s - loss: 17.9682 - mean_absolute_error: 2.9921\n",
      "Epoch 6/100\n",
      " - 0s - loss: 15.4719 - mean_absolute_error: 2.8399\n",
      "Epoch 7/100\n",
      " - 0s - loss: 14.0283 - mean_absolute_error: 2.6204\n",
      "Epoch 8/100\n",
      " - 0s - loss: 12.2906 - mean_absolute_error: 2.5176\n",
      "Epoch 9/100\n",
      " - 0s - loss: 11.4633 - mean_absolute_error: 2.3517\n",
      "Epoch 10/100\n",
      " - 0s - loss: 10.6047 - mean_absolute_error: 2.3054\n",
      "Epoch 11/100\n",
      " - 0s - loss: 10.0856 - mean_absolute_error: 2.2498\n",
      "Epoch 12/100\n",
      " - 0s - loss: 9.5346 - mean_absolute_error: 2.1633\n",
      "Epoch 13/100\n",
      " - 0s - loss: 9.2894 - mean_absolute_error: 2.1947\n",
      "Epoch 14/100\n",
      " - 0s - loss: 9.0478 - mean_absolute_error: 2.0848\n",
      "Epoch 15/100\n",
      " - 0s - loss: 8.7712 - mean_absolute_error: 2.1044\n",
      "Epoch 16/100\n",
      " - 0s - loss: 8.8052 - mean_absolute_error: 2.0619\n",
      "Epoch 17/100\n",
      " - 0s - loss: 8.4298 - mean_absolute_error: 2.0758\n",
      "Epoch 18/100\n",
      " - 0s - loss: 8.1572 - mean_absolute_error: 2.0223\n",
      "Epoch 19/100\n",
      " - 0s - loss: 7.9900 - mean_absolute_error: 2.0223\n",
      "Epoch 20/100\n",
      " - 0s - loss: 7.7279 - mean_absolute_error: 1.9785\n",
      "Epoch 21/100\n",
      " - 0s - loss: 8.0279 - mean_absolute_error: 2.0036\n",
      "Epoch 22/100\n",
      " - 0s - loss: 7.8813 - mean_absolute_error: 1.9953\n",
      "Epoch 23/100\n",
      " - 0s - loss: 7.4986 - mean_absolute_error: 1.8984\n",
      "Epoch 24/100\n",
      " - 0s - loss: 7.1721 - mean_absolute_error: 1.9235\n",
      "Epoch 25/100\n",
      " - 0s - loss: 7.3047 - mean_absolute_error: 1.8682\n",
      "Epoch 26/100\n",
      " - 0s - loss: 7.0319 - mean_absolute_error: 1.8714\n",
      "Epoch 27/100\n",
      " - 0s - loss: 7.0507 - mean_absolute_error: 1.8672\n",
      "Epoch 28/100\n",
      " - 0s - loss: 7.0419 - mean_absolute_error: 1.8785\n",
      "Epoch 29/100\n",
      " - 0s - loss: 6.8013 - mean_absolute_error: 1.8470\n",
      "Epoch 30/100\n",
      " - 0s - loss: 6.7521 - mean_absolute_error: 1.8331\n",
      "Epoch 31/100\n",
      " - 0s - loss: 6.6018 - mean_absolute_error: 1.8452\n",
      "Epoch 32/100\n",
      " - 0s - loss: 6.5034 - mean_absolute_error: 1.7815\n",
      "Epoch 33/100\n",
      " - 0s - loss: 6.2908 - mean_absolute_error: 1.7586\n",
      "Epoch 34/100\n",
      " - 0s - loss: 6.3134 - mean_absolute_error: 1.7873\n",
      "Epoch 35/100\n",
      " - 0s - loss: 6.4040 - mean_absolute_error: 1.7709\n",
      "Epoch 36/100\n",
      " - 0s - loss: 6.5010 - mean_absolute_error: 1.7829\n",
      "Epoch 37/100\n",
      " - 0s - loss: 6.2270 - mean_absolute_error: 1.7735\n",
      "Epoch 38/100\n",
      " - 0s - loss: 6.1073 - mean_absolute_error: 1.7378\n",
      "Epoch 39/100\n",
      " - 0s - loss: 6.1741 - mean_absolute_error: 1.7562\n",
      "Epoch 40/100\n",
      " - 0s - loss: 6.1669 - mean_absolute_error: 1.7489\n",
      "Epoch 41/100\n",
      " - 0s - loss: 5.7546 - mean_absolute_error: 1.6989\n",
      "Epoch 42/100\n",
      " - 0s - loss: 6.2028 - mean_absolute_error: 1.7205\n",
      "Epoch 43/100\n",
      " - 0s - loss: 5.9214 - mean_absolute_error: 1.7261\n",
      "Epoch 44/100\n",
      " - 0s - loss: 5.9104 - mean_absolute_error: 1.7587\n",
      "Epoch 45/100\n",
      " - 0s - loss: 5.6345 - mean_absolute_error: 1.7377\n",
      "Epoch 46/100\n",
      " - 0s - loss: 5.7669 - mean_absolute_error: 1.7106\n",
      "Epoch 47/100\n",
      " - 0s - loss: 5.5147 - mean_absolute_error: 1.6605\n",
      "Epoch 48/100\n",
      " - 0s - loss: 5.6702 - mean_absolute_error: 1.6616\n",
      "Epoch 49/100\n",
      " - 0s - loss: 5.6727 - mean_absolute_error: 1.6831\n",
      "Epoch 50/100\n",
      " - 0s - loss: 5.5465 - mean_absolute_error: 1.6843\n",
      "Epoch 51/100\n",
      " - 0s - loss: 5.1797 - mean_absolute_error: 1.6169\n",
      "Epoch 52/100\n",
      " - 0s - loss: 5.6237 - mean_absolute_error: 1.6825\n",
      "Epoch 53/100\n",
      " - 0s - loss: 5.3196 - mean_absolute_error: 1.6457\n",
      "Epoch 54/100\n",
      " - 0s - loss: 5.3443 - mean_absolute_error: 1.6283\n",
      "Epoch 55/100\n",
      " - 0s - loss: 5.3602 - mean_absolute_error: 1.6363\n",
      "Epoch 56/100\n",
      " - 0s - loss: 5.0184 - mean_absolute_error: 1.6206\n",
      "Epoch 57/100\n",
      " - 0s - loss: 5.2794 - mean_absolute_error: 1.6292\n",
      "Epoch 58/100\n",
      " - 0s - loss: 5.1468 - mean_absolute_error: 1.5574\n",
      "Epoch 59/100\n",
      " - 0s - loss: 5.1822 - mean_absolute_error: 1.6053\n",
      "Epoch 60/100\n",
      " - 0s - loss: 5.0765 - mean_absolute_error: 1.5982\n",
      "Epoch 61/100\n",
      " - 0s - loss: 5.1720 - mean_absolute_error: 1.6090\n",
      "Epoch 62/100\n",
      " - 0s - loss: 5.0041 - mean_absolute_error: 1.5772\n",
      "Epoch 63/100\n",
      " - 0s - loss: 4.8596 - mean_absolute_error: 1.5591\n",
      "Epoch 64/100\n",
      " - 0s - loss: 4.9644 - mean_absolute_error: 1.6164\n",
      "Epoch 65/100\n",
      " - 0s - loss: 4.9375 - mean_absolute_error: 1.5801\n",
      "Epoch 66/100\n",
      " - 0s - loss: 5.0148 - mean_absolute_error: 1.5664\n",
      "Epoch 67/100\n",
      " - 0s - loss: 4.7932 - mean_absolute_error: 1.5649\n",
      "Epoch 68/100\n",
      " - 0s - loss: 4.8093 - mean_absolute_error: 1.5309\n",
      "Epoch 69/100\n",
      " - 0s - loss: 4.7843 - mean_absolute_error: 1.5619\n",
      "Epoch 70/100\n",
      " - 0s - loss: 4.9738 - mean_absolute_error: 1.5921\n",
      "Epoch 71/100\n",
      " - 0s - loss: 4.7564 - mean_absolute_error: 1.5243\n",
      "Epoch 72/100\n",
      " - 0s - loss: 4.8132 - mean_absolute_error: 1.5517\n",
      "Epoch 73/100\n",
      " - 0s - loss: 4.4838 - mean_absolute_error: 1.4751\n",
      "Epoch 74/100\n",
      " - 0s - loss: 4.6661 - mean_absolute_error: 1.5467\n",
      "Epoch 75/100\n",
      " - 0s - loss: 4.4367 - mean_absolute_error: 1.5024\n",
      "Epoch 76/100\n",
      " - 0s - loss: 4.3998 - mean_absolute_error: 1.4623\n",
      "Epoch 77/100\n",
      " - 0s - loss: 4.5305 - mean_absolute_error: 1.4988\n",
      "Epoch 78/100\n",
      " - 0s - loss: 4.6594 - mean_absolute_error: 1.5555\n",
      "Epoch 79/100\n",
      " - 0s - loss: 4.3382 - mean_absolute_error: 1.4671\n",
      "Epoch 80/100\n",
      " - 0s - loss: 4.4320 - mean_absolute_error: 1.4696\n",
      "Epoch 81/100\n",
      " - 0s - loss: 4.4504 - mean_absolute_error: 1.4693\n",
      "Epoch 82/100\n",
      " - 0s - loss: 4.3636 - mean_absolute_error: 1.4618\n",
      "Epoch 83/100\n",
      " - 0s - loss: 4.5315 - mean_absolute_error: 1.4936\n",
      "Epoch 84/100\n",
      " - 0s - loss: 4.4130 - mean_absolute_error: 1.4671\n",
      "Epoch 85/100\n",
      " - 0s - loss: 4.3637 - mean_absolute_error: 1.4690\n",
      "Epoch 86/100\n",
      " - 0s - loss: 4.2353 - mean_absolute_error: 1.4463\n",
      "Epoch 87/100\n",
      " - 0s - loss: 4.2657 - mean_absolute_error: 1.4686\n",
      "Epoch 88/100\n",
      " - 0s - loss: 4.0946 - mean_absolute_error: 1.4269\n",
      "Epoch 89/100\n",
      " - 0s - loss: 4.3060 - mean_absolute_error: 1.4533\n",
      "Epoch 90/100\n",
      " - 0s - loss: 4.0377 - mean_absolute_error: 1.4386\n",
      "Epoch 91/100\n",
      " - 0s - loss: 4.0602 - mean_absolute_error: 1.4271\n",
      "Epoch 92/100\n",
      " - 0s - loss: 4.0944 - mean_absolute_error: 1.4416\n",
      "Epoch 93/100\n",
      " - 0s - loss: 4.2264 - mean_absolute_error: 1.4525\n",
      "Epoch 94/100\n",
      " - 0s - loss: 4.1374 - mean_absolute_error: 1.4622\n",
      "Epoch 95/100\n",
      " - 0s - loss: 3.8255 - mean_absolute_error: 1.3778\n",
      "Epoch 96/100\n",
      " - 0s - loss: 3.8679 - mean_absolute_error: 1.4117\n",
      "Epoch 97/100\n",
      " - 0s - loss: 3.9513 - mean_absolute_error: 1.3828\n",
      "Epoch 98/100\n",
      " - 0s - loss: 3.9844 - mean_absolute_error: 1.4449\n",
      "Epoch 99/100\n",
      " - 0s - loss: 3.8890 - mean_absolute_error: 1.3962\n",
      "Epoch 100/100\n",
      " - 0s - loss: 3.8858 - mean_absolute_error: 1.4245\n"
     ]
    },
    {
     "data": {
      "text/plain": [
       "<keras.callbacks.History at 0x7f75ba6b19e8>"
      ]
     },
     "execution_count": 14,
     "metadata": {},
     "output_type": "execute_result"
    }
   ],
   "source": [
    "#обучаю\n",
    "model.fit(x_train, y_train, epochs=100, batch_size=1, verbose=2)"
   ]
  },
  {
   "cell_type": "code",
   "execution_count": 15,
   "metadata": {},
   "outputs": [],
   "source": [
    "mse, mae = model.evaluate(x_test, y_test, verbose=0) #Оцениваю точность"
   ]
  },
  {
   "cell_type": "code",
   "execution_count": 16,
   "metadata": {},
   "outputs": [
    {
     "name": "stdout",
     "output_type": "stream",
     "text": [
      "Средняя абсолютная ошибка (тысяч долларов): 2.363803096846038\n"
     ]
    }
   ],
   "source": [
    "print(\"Средняя абсолютная ошибка (тысяч долларов):\", mae)"
   ]
  },
  {
   "cell_type": "code",
   "execution_count": 17,
   "metadata": {},
   "outputs": [],
   "source": [
    "#предсказания\n",
    "pred = model.predict(x_test)"
   ]
  },
  {
   "cell_type": "code",
   "execution_count": 18,
   "metadata": {},
   "outputs": [
    {
     "name": "stdout",
     "output_type": "stream",
     "text": [
      "Предсказанная стоимость: 18.167246 , правильная стоимость: 18.8\n"
     ]
    }
   ],
   "source": [
    "print(\"Предсказанная стоимость:\", pred[1][0], \", правильная стоимость:\", y_test[1])"
   ]
  },
  {
   "cell_type": "code",
   "execution_count": null,
   "metadata": {},
   "outputs": [],
   "source": []
  },
  {
   "cell_type": "code",
   "execution_count": null,
   "metadata": {},
   "outputs": [],
   "source": []
  }
 ],
 "metadata": {
  "kernelspec": {
   "display_name": "Python 3",
   "language": "python",
   "name": "python3"
  },
  "language_info": {
   "codemirror_mode": {
    "name": "ipython",
    "version": 3
   },
   "file_extension": ".py",
   "mimetype": "text/x-python",
   "name": "python",
   "nbconvert_exporter": "python",
   "pygments_lexer": "ipython3",
   "version": "3.6.4"
  }
 },
 "nbformat": 4,
 "nbformat_minor": 2
}
