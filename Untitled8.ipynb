{
 "cells": [
  {
   "cell_type": "code",
   "execution_count": 2,
   "metadata": {},
   "outputs": [
    {
     "name": "stderr",
     "output_type": "stream",
     "text": [
      "Using TensorFlow backend.\n"
     ]
    }
   ],
   "source": [
    "import matplotlib.pylab as plt\n",
    "import numpy as np\n",
    "import pandas as pd\n",
    "from keras.datasets import boston_housing\n",
    "from keras.models import Sequential\n",
    "from keras.layers import Dense"
   ]
  },
  {
   "cell_type": "code",
   "execution_count": null,
   "metadata": {
    "collapsed": true
   },
   "outputs": [
    {
     "data": {
      "text/html": [
       "<div>\n",
       "<style scoped>\n",
       "    .dataframe tbody tr th:only-of-type {\n",
       "        vertical-align: middle;\n",
       "    }\n",
       "\n",
       "    .dataframe tbody tr th {\n",
       "        vertical-align: top;\n",
       "    }\n",
       "\n",
       "    .dataframe thead th {\n",
       "        text-align: right;\n",
       "    }\n",
       "</style>\n",
       "<table border=\"1\" class=\"dataframe\">\n",
       "  <thead>\n",
       "    <tr style=\"text-align: right;\">\n",
       "      <th></th>\n",
       "      <th>id</th>\n",
       "      <th>time</th>\n",
       "      <th>token</th>\n",
       "      <th>order</th>\n",
       "      <th>order_price</th>\n",
       "      <th>order_volume</th>\n",
       "      <th>price</th>\n",
       "    </tr>\n",
       "  </thead>\n",
       "  <tbody>\n",
       "    <tr>\n",
       "      <th>0</th>\n",
       "      <td>7404601</td>\n",
       "      <td>2018-02-14 10:22:21</td>\n",
       "      <td>OMGBTC</td>\n",
       "      <td>bid</td>\n",
       "      <td>0.001586</td>\n",
       "      <td>34.69</td>\n",
       "      <td>0.001586</td>\n",
       "    </tr>\n",
       "    <tr>\n",
       "      <th>1</th>\n",
       "      <td>7404602</td>\n",
       "      <td>2018-02-14 10:22:21</td>\n",
       "      <td>OMGBTC</td>\n",
       "      <td>bid</td>\n",
       "      <td>0.001583</td>\n",
       "      <td>96.83</td>\n",
       "      <td>0.001586</td>\n",
       "    </tr>\n",
       "    <tr>\n",
       "      <th>2</th>\n",
       "      <td>7404603</td>\n",
       "      <td>2018-02-14 10:22:21</td>\n",
       "      <td>OMGBTC</td>\n",
       "      <td>bid</td>\n",
       "      <td>0.001582</td>\n",
       "      <td>116.19</td>\n",
       "      <td>0.001586</td>\n",
       "    </tr>\n",
       "    <tr>\n",
       "      <th>3</th>\n",
       "      <td>7404604</td>\n",
       "      <td>2018-02-14 10:22:21</td>\n",
       "      <td>OMGBTC</td>\n",
       "      <td>bid</td>\n",
       "      <td>0.001581</td>\n",
       "      <td>466.89</td>\n",
       "      <td>0.001586</td>\n",
       "    </tr>\n",
       "    <tr>\n",
       "      <th>4</th>\n",
       "      <td>7404605</td>\n",
       "      <td>2018-02-14 10:22:21</td>\n",
       "      <td>OMGBTC</td>\n",
       "      <td>bid</td>\n",
       "      <td>0.001580</td>\n",
       "      <td>214.80</td>\n",
       "      <td>0.001586</td>\n",
       "    </tr>\n",
       "  </tbody>\n",
       "</table>\n",
       "</div>"
      ],
      "text/plain": [
       "<div>\n",
       "<style scoped>\n",
       "    .dataframe tbody tr th:only-of-type {\n",
       "        vertical-align: middle;\n",
       "    }\n",
       "\n",
       "    .dataframe tbody tr th {\n",
       "        vertical-align: top;\n",
       "    }\n",
       "\n",
       "    .dataframe thead th {\n",
       "        text-align: right;\n",
       "    }\n",
       "</style>\n",
       "<table border=\"1\" class=\"dataframe\">\n",
       "  <thead>\n",
       "    <tr style=\"text-align: right;\">\n",
       "      <th></th>\n",
       "      <th>id</th>\n",
       "      <th>time</th>\n",
       "      <th>token</th>\n",
       "      <th>order</th>\n",
       "      <th>order_price</th>\n",
       "      <th>order_volume</th>\n",
       "      <th>price</th>\n",
       "    </tr>\n",
       "  </thead>\n",
       "  <tbody>\n",
       "    <tr>\n",
       "      <th>0</th>\n",
       "      <td>7404601</td>\n",
       "      <td>2018-02-14 10:22:21</td>\n",
       "      <td>OMGBTC</td>\n",
       "      <td>bid</td>\n",
       "      <td>0.001586</td>\n",
       "      <td>34.69</td>\n",
       "      <td>0.001586</td>\n",
       "    </tr>\n",
       "    <tr>\n",
       "      <th>1</th>\n",
       "      <td>7404602</td>\n",
       "      <td>2018-02-14 10:22:21</td>\n",
       "      <td>OMGBTC</td>\n",
       "      <td>bid</td>\n",
       "      <td>0.001583</td>\n",
       "      <td>96.83</td>\n",
       "      <td>0.001586</td>\n",
       "    </tr>\n",
       "    <tr>\n",
       "      <th>2</th>\n",
       "      <td>7404603</td>\n",
       "      <td>2018-02-14 10:22:21</td>\n",
       "      <td>OMGBTC</td>\n",
       "      <td>bid</td>\n",
       "      <td>0.001582</td>\n",
       "      <td>116.19</td>\n",
       "      <td>0.001586</td>\n",
       "    </tr>\n",
       "    <tr>\n",
       "      <th>3</th>\n",
       "      <td>7404604</td>\n",
       "      <td>2018-02-14 10:22:21</td>\n",
       "      <td>OMGBTC</td>\n",
       "      <td>bid</td>\n",
       "      <td>0.001581</td>\n",
       "      <td>466.89</td>\n",
       "      <td>0.001586</td>\n",
       "    </tr>\n",
       "    <tr>\n",
       "      <th>4</th>\n",
       "      <td>7404605</td>\n",
       "      <td>2018-02-14 10:22:21</td>\n",
       "      <td>OMGBTC</td>\n",
       "      <td>bid</td>\n",
       "      <td>0.001580</td>\n",
       "      <td>214.80</td>\n",
       "      <td>0.001586</td>\n",
       "    </tr>\n",
       "  </tbody>\n",
       "</table>\n",
       "</div>"
      ]
     },
     "execution_count": 3,
     "metadata": {},
     "output_type": "execute_result"
    }
   ],
   "source": [
    "data = pd.read_csv('b1.csv',sep=';')\n",
    "data.head()\n",
    "#close_price = data.ix[:, 'price'].tolist()\n",
    "#plt.plot(close_price)\n",
    "#plt.show()"
   ]
  },
  {
   "cell_type": "code",
   "execution_count": 6,
   "metadata": {
    "collapsed": true
   },
   "outputs": [
    {
     "name": "stdout",
     "output_type": "stream",
     "text": [
      "RangeIndex(start=0, stop=7404800, step=1)\n"
     ]
    }
   ],
   "source": [
    "dh = data\n",
    "data2 = {}\n",
    "print(dh.index)\n",
    "for t in dh.index:\n",
    "    if data2.get(dh['token'][t],'jjj')=='jjj':\n",
    "        data2[dh['token'][t]]=[]\n",
    "    data2[dh['token'][t]].append(dh['price'][t])\n",
    "data3 = data2['ENJBTC']"
   ]
  },
  {
   "cell_type": "code",
   "execution_count": 7,
   "metadata": {},
   "outputs": [
    {
     "name": "stdout",
     "output_type": "stream",
     "text": [
      "[1.8110000000000001e-05, 1.8110000000000001e-05, 1.8110000000000001e-05, 1.8110000000000001e-05, 1.8110000000000001e-05, 1.8110000000000001e-05, 1.8110000000000001e-05, 1.8110000000000001e-05, 1.8110000000000001e-05, 1.8110000000000001e-05]\n"
     ]
    }
   ],
   "source": [
    "print(data3[:10])"
   ]
  },
  {
   "cell_type": "code",
   "execution_count": 9,
   "metadata": {},
   "outputs": [],
   "source": [
    "f = open('b2.csv','w')\n",
    "f.write(';'.join([str(e) for e in data3]))\n",
    "f.close()"
   ]
  },
  {
   "cell_type": "code",
   "execution_count": 3,
   "metadata": {},
   "outputs": [],
   "source": [
    "data3 = pd.read_csv('b2.csv',sep=';')\n",
    "data3.head()"
   ]
  },
  {
   "cell_type": "code",
   "execution_count": 21,
   "metadata": {},
   "outputs": [
    {
     "ename": "ValueError",
     "evalue": "too many values to unpack (expected 2)",
     "traceback": [
      "\u001b[0;31m---------------------------------------------------------------------------\u001b[0m",
      "\u001b[0;31mValueError\u001b[0m                                Traceback (most recent call last)",
      "\u001b[0;32m<ipython-input-21-af7ae9f1150b>\u001b[0m in \u001b[0;36m<module>\u001b[0;34m()\u001b[0m\n\u001b[0;32m----> 1\u001b[0;31m \u001b[0;34m(\u001b[0m\u001b[0mx_train\u001b[0m\u001b[0;34m,\u001b[0m \u001b[0my_train\u001b[0m\u001b[0;34m)\u001b[0m \u001b[0;34m=\u001b[0m \u001b[0mdata2\u001b[0m\u001b[0;34m\u001b[0m\u001b[0m\n\u001b[0m",
      "\u001b[0;31mValueError\u001b[0m: too many values to unpack (expected 2)"
     ],
     "output_type": "error"
    }
   ],
   "source": [
    "(x_train, y_train), (x_test, y_test) = boston_housing.load_data()"
   ]
  },
  {
   "cell_type": "code",
   "execution_count": null,
   "metadata": {},
   "outputs": [],
   "source": [
    "model = Sequential()\n",
    "model.add(Dense(128, activation='relu', input_shape=(x_train.shape[1],)))\n",
    "model.add(Dense(1))\n",
    "model.compile(optimizer='adam', loss='mse', metrics=['mae'])"
   ]
  }
 ],
 "metadata": {
  "kernelspec": {
   "display_name": "Python 3",
   "language": "python",
   "name": "python3"
  },
  "language_info": {
   "codemirror_mode": {
    "name": "ipython",
    "version": 3
   },
   "file_extension": ".py",
   "mimetype": "text/x-python",
   "name": "python",
   "nbconvert_exporter": "python",
   "pygments_lexer": "ipython3",
   "version": "3.6.4"
  }
 },
 "nbformat": 4,
 "nbformat_minor": 2
}
